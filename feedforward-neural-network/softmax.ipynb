{
 "cells": [
  {
   "cell_type": "markdown",
   "metadata": {
    "tags": [
     "pdf-title"
    ]
   },
   "source": [
    "# Softmax exercise\n",
    "\n",
    "*Complete and hand in this completed worksheet (including its outputs and any supporting code outside of the worksheet) with your assignment submission. For more details see the course website.*\n",
    "\n",
    "This exercise is analogous to the SVM exercise. You will:\n",
    "\n",
    "- implement a fully-vectorized **loss function** for the Softmax classifier\n",
    "- implement the fully-vectorized expression for its **analytic gradient**\n",
    "- **check your implementation** with numerical gradient\n",
    "- use a validation set to **tune the learning rate and regularization** strengths\n",
    "- **optimize** the loss function with **SGD**\n",
    "- **visualize** the final learned weights\n"
   ]
  },
  {
   "cell_type": "code",
   "execution_count": 9,
   "metadata": {
    "tags": [
     "pdf-ignore"
    ]
   },
   "outputs": [
    {
     "name": "stdout",
     "output_type": "stream",
     "text": [
      "The autoreload extension is already loaded. To reload it, use:\n",
      "  %reload_ext autoreload\n"
     ]
    }
   ],
   "source": [
    "import random\n",
    "import numpy as np\n",
    "from comp411.data_utils import load_CIFAR10\n",
    "import matplotlib.pyplot as plt\n",
    "\n",
    "%matplotlib inline\n",
    "plt.rcParams['figure.figsize'] = (10.0, 8.0) # set default size of plots\n",
    "plt.rcParams['image.interpolation'] = 'nearest'\n",
    "plt.rcParams['image.cmap'] = 'gray'\n",
    "\n",
    "# for auto-reloading extenrnal modules\n",
    "# see http://stackoverflow.com/questions/1907993/autoreload-of-modules-in-ipython\n",
    "%load_ext autoreload\n",
    "%autoreload 2"
   ]
  },
  {
   "cell_type": "code",
   "execution_count": 10,
   "metadata": {
    "tags": [
     "pdf-ignore"
    ]
   },
   "outputs": [
    {
     "name": "stdout",
     "output_type": "stream",
     "text": [
      "Train data shape:  (49000, 3073)\n",
      "Train labels shape:  (49000,)\n",
      "Validation data shape:  (1000, 3073)\n",
      "Validation labels shape:  (1000,)\n",
      "Test data shape:  (1000, 3073)\n",
      "Test labels shape:  (1000,)\n",
      "dev data shape:  (500, 3073)\n",
      "dev labels shape:  (500,)\n"
     ]
    }
   ],
   "source": [
    "def get_CIFAR10_data(num_training=49000, num_validation=1000, num_test=1000, num_dev=500):\n",
    "    \"\"\"\n",
    "    Load the CIFAR-10 dataset from disk and perform preprocessing to prepare\n",
    "    it for the linear classifier. These are the same steps as we used for the\n",
    "    SVM, but condensed to a single function.  \n",
    "    \"\"\"\n",
    "    # Load the raw CIFAR-10 data\n",
    "    cifar10_dir = 'comp411/datasets/cifar-10-batches-py'\n",
    "    \n",
    "    # Cleaning up variables to prevent loading data multiple times (which may cause memory issue)\n",
    "    try:\n",
    "       del X_train, y_train\n",
    "       del X_test, y_test\n",
    "       print('Clear previously loaded data.')\n",
    "    except:\n",
    "       pass\n",
    "\n",
    "    X_train, y_train, X_test, y_test = load_CIFAR10(cifar10_dir)\n",
    "    \n",
    "    # subsample the data\n",
    "    mask = list(range(num_training, num_training + num_validation))\n",
    "    X_val = X_train[mask]\n",
    "    y_val = y_train[mask]\n",
    "    mask = list(range(num_training))\n",
    "    X_train = X_train[mask]\n",
    "    y_train = y_train[mask]\n",
    "    mask = list(range(num_test))\n",
    "    X_test = X_test[mask]\n",
    "    y_test = y_test[mask]\n",
    "    mask = np.random.choice(num_training, num_dev, replace=False)\n",
    "    X_dev = X_train[mask]\n",
    "    y_dev = y_train[mask]\n",
    "    \n",
    "    # Preprocessing: reshape the image data into rows\n",
    "    X_train = np.reshape(X_train, (X_train.shape[0], -1))\n",
    "    X_val = np.reshape(X_val, (X_val.shape[0], -1))\n",
    "    X_test = np.reshape(X_test, (X_test.shape[0], -1))\n",
    "    X_dev = np.reshape(X_dev, (X_dev.shape[0], -1))\n",
    "    \n",
    "    # Normalize the data: subtract the mean image\n",
    "    mean_image = np.mean(X_train, axis = 0)\n",
    "    X_train -= mean_image\n",
    "    X_val -= mean_image\n",
    "    X_test -= mean_image\n",
    "    X_dev -= mean_image\n",
    "    \n",
    "    # add bias dimension and transform into columns\n",
    "    X_train = np.hstack([X_train, np.ones((X_train.shape[0], 1))])\n",
    "    X_val = np.hstack([X_val, np.ones((X_val.shape[0], 1))])\n",
    "    X_test = np.hstack([X_test, np.ones((X_test.shape[0], 1))])\n",
    "    X_dev = np.hstack([X_dev, np.ones((X_dev.shape[0], 1))])\n",
    "    \n",
    "    return X_train, y_train, X_val, y_val, X_test, y_test, X_dev, y_dev\n",
    "\n",
    "\n",
    "# Invoke the above function to get our data.\n",
    "X_train, y_train, X_val, y_val, X_test, y_test, X_dev, y_dev = get_CIFAR10_data()\n",
    "print('Train data shape: ', X_train.shape)\n",
    "print('Train labels shape: ', y_train.shape)\n",
    "print('Validation data shape: ', X_val.shape)\n",
    "print('Validation labels shape: ', y_val.shape)\n",
    "print('Test data shape: ', X_test.shape)\n",
    "print('Test labels shape: ', y_test.shape)\n",
    "print('dev data shape: ', X_dev.shape)\n",
    "print('dev labels shape: ', y_dev.shape)"
   ]
  },
  {
   "cell_type": "markdown",
   "metadata": {},
   "source": [
    "## Softmax Classifier\n",
    "\n",
    "Your code for this section will all be written inside **comp411/classifiers/softmax.py**. \n"
   ]
  },
  {
   "cell_type": "code",
   "execution_count": 11,
   "metadata": {},
   "outputs": [
    {
     "name": "stdout",
     "output_type": "stream",
     "text": [
      "loss: 2.341204\n",
      "sanity check: 2.302585\n"
     ]
    }
   ],
   "source": [
    "# First implement the naive softmax loss function with nested loops.\n",
    "# Open the file comp411/classifiers/softmax.py and implement the\n",
    "# softmax_loss_naive function.\n",
    "\n",
    "from comp411.classifiers.softmax import softmax_loss_naive\n",
    "import time\n",
    "\n",
    "# Generate a random softmax weight matrix and use it to compute the loss.\n",
    "W = np.random.randn(3073, 10) * 0.0001\n",
    "loss, grad = softmax_loss_naive(W, X_dev, y_dev, 0.0, 0.0)\n",
    "\n",
    "# As a rough sanity check, our loss should be something close to -log(0.1).\n",
    "print('loss: %f' % loss)\n",
    "print('sanity check: %f' % (-np.log(0.1)))"
   ]
  },
  {
   "cell_type": "markdown",
   "metadata": {
    "tags": [
     "pdf-inline"
    ]
   },
   "source": [
    "**Inline Question 1**\n",
    "\n",
    "Why do we expect our loss to be close to -log(0.1)? Explain briefly.**\n",
    "\n",
    "$\\color{blue}{\\textit Your Answer:}$ \n",
    " \n",
    "Since weights are randomly initialized, first set of scores are random. Then, expectation of score of each class is the same. So, $e^{S_{y_i}}$ / $\\sum_{j} e^j$ should roughly be equal to 1/10. By the law of large numbers, it will converge to 1/10 as we calculate over larger datasets rather than single points."
   ]
  },
  {
   "cell_type": "code",
   "execution_count": 12,
   "metadata": {},
   "outputs": [
    {
     "name": "stdout",
     "output_type": "stream",
     "text": [
      "numerical: -1.757163 analytic: -1.757163, relative error: 3.428068e-08\n",
      "numerical: 0.408018 analytic: 0.408018, relative error: 1.381054e-08\n",
      "numerical: 1.186677 analytic: 1.186677, relative error: 8.504385e-09\n",
      "numerical: -1.531649 analytic: -1.531649, relative error: 2.754057e-09\n",
      "numerical: 1.189149 analytic: 1.189149, relative error: 4.763382e-09\n",
      "numerical: 1.256904 analytic: 1.256904, relative error: 3.220467e-09\n",
      "numerical: 3.145621 analytic: 3.145621, relative error: 1.432623e-08\n",
      "numerical: -3.553480 analytic: -3.553480, relative error: 2.673638e-09\n",
      "numerical: 0.616458 analytic: 0.616458, relative error: 6.326802e-09\n",
      "numerical: 1.302168 analytic: 1.302168, relative error: 6.725107e-10\n",
      "numerical: 51.097977 analytic: 51.097977, relative error: 2.070581e-10\n",
      "numerical: -49.793552 analytic: -49.793552, relative error: 4.174786e-10\n",
      "numerical: -51.295974 analytic: -51.295974, relative error: 4.501136e-11\n",
      "numerical: -46.999787 analytic: -46.999788, relative error: 1.195123e-09\n",
      "numerical: -47.766996 analytic: -47.766996, relative error: 1.927393e-09\n",
      "numerical: -49.588688 analytic: -49.588688, relative error: 6.910521e-10\n",
      "numerical: -48.066724 analytic: -48.066724, relative error: 6.989162e-10\n",
      "numerical: -51.235274 analytic: -51.235274, relative error: 3.850242e-10\n",
      "numerical: 22.152816 analytic: 47.398766, relative error: 3.629817e-01\n",
      "numerical: 51.961074 analytic: 51.961074, relative error: 1.273522e-09\n"
     ]
    }
   ],
   "source": [
    "# Complete the implementation of softmax_loss_naive and implement a (naive)\n",
    "# version of the gradient that uses nested loops.\n",
    "loss, grad = softmax_loss_naive(W, X_dev, y_dev, 0.0, 0.0)\n",
    "\n",
    "# As we did for the SVM, use numeric gradient checking as a debugging tool.\n",
    "# The numeric gradient should be close to the analytic gradient.\n",
    "from comp411.gradient_check import grad_check_sparse\n",
    "f = lambda w: softmax_loss_naive(w, X_dev, y_dev, 0.0, 0.0)[0]\n",
    "grad_numerical = grad_check_sparse(f, W, grad, 10)\n",
    "\n",
    "# similar to SVM case, do another gradient check with regularizations\n",
    "loss, grad = softmax_loss_naive(W, X_dev, y_dev, 5e1, 5e1)\n",
    "f = lambda w: softmax_loss_naive(w, X_dev, y_dev, 5e1, 5e1)[0]\n",
    "grad_numerical = grad_check_sparse(f, W, grad, 10)"
   ]
  },
  {
   "cell_type": "code",
   "execution_count": 13,
   "metadata": {},
   "outputs": [
    {
     "name": "stdout",
     "output_type": "stream",
     "text": [
      "naive loss: 2.341216e+00 computed in 0.190063s\n",
      "vectorized loss: 2.341216e+00 computed in 0.029138s\n",
      "Loss difference: 0.000000\n",
      "Gradient difference: 0.000000\n"
     ]
    }
   ],
   "source": [
    "# Now that we have a naive implementation of the softmax loss function and its gradient,\n",
    "# implement a vectorized version in softmax_loss_vectorized.\n",
    "# The two versions should compute the same results, but the vectorized version should be\n",
    "# much faster.\n",
    "tic = time.time()\n",
    "loss_naive, grad_naive = softmax_loss_naive(W, X_dev, y_dev, 0.000005, 0.000005)\n",
    "toc = time.time()\n",
    "print('naive loss: %e computed in %fs' % (loss_naive, toc - tic))\n",
    "\n",
    "from comp411.classifiers.softmax import softmax_loss_vectorized\n",
    "tic = time.time()\n",
    "loss_vectorized, grad_vectorized = softmax_loss_vectorized(W, X_dev, y_dev, 0.000005, 0.000005)\n",
    "toc = time.time()\n",
    "print('vectorized loss: %e computed in %fs' % (loss_vectorized, toc - tic))\n",
    "\n",
    "# As we did for the SVM, we use the Frobenius norm to compare the two versions\n",
    "# of the gradient.\n",
    "grad_difference = np.linalg.norm(grad_naive - grad_vectorized, ord='fro')\n",
    "print('Loss difference: %f' % np.abs(loss_naive - loss_vectorized))\n",
    "print('Gradient difference: %f' % grad_difference)"
   ]
  },
  {
   "cell_type": "code",
   "execution_count": 14,
   "metadata": {
    "tags": [
     "code"
    ]
   },
   "outputs": [
    {
     "name": "stdout",
     "output_type": "stream",
     "text": [
      "lr 1.000000e-07 rg_l2 0.000000e+00 rg_l1 0.000000e+00 train accuracy: 0.250571 val accuracy: 0.259000\n",
      "lr 1.000000e-07 rg_l2 0.000000e+00 rg_l1 1.000000e-01 train accuracy: 0.243898 val accuracy: 0.242000\n",
      "lr 1.000000e-07 rg_l2 0.000000e+00 rg_l1 1.000000e+01 train accuracy: 0.239163 val accuracy: 0.225000\n",
      "lr 1.000000e-07 rg_l2 0.000000e+00 rg_l1 2.500000e+02 train accuracy: 0.106265 val accuracy: 0.113000\n",
      "lr 1.000000e-07 rg_l2 0.000000e+00 rg_l1 5.000000e+02 train accuracy: 0.132571 val accuracy: 0.123000\n",
      "lr 1.000000e-07 rg_l2 1.000000e-01 rg_l1 0.000000e+00 train accuracy: 0.253061 val accuracy: 0.247000\n",
      "lr 1.000000e-07 rg_l2 1.000000e-01 rg_l1 1.000000e-01 train accuracy: 0.247184 val accuracy: 0.241000\n",
      "lr 1.000000e-07 rg_l2 1.000000e-01 rg_l1 1.000000e+01 train accuracy: 0.232531 val accuracy: 0.255000\n",
      "lr 1.000000e-07 rg_l2 1.000000e-01 rg_l1 2.500000e+02 train accuracy: 0.123347 val accuracy: 0.113000\n",
      "lr 1.000000e-07 rg_l2 1.000000e-01 rg_l1 5.000000e+02 train accuracy: 0.098286 val accuracy: 0.087000\n",
      "lr 1.000000e-07 rg_l2 1.000000e+01 rg_l1 0.000000e+00 train accuracy: 0.249592 val accuracy: 0.251000\n",
      "lr 1.000000e-07 rg_l2 1.000000e+01 rg_l1 1.000000e-01 train accuracy: 0.247551 val accuracy: 0.241000\n",
      "lr 1.000000e-07 rg_l2 1.000000e+01 rg_l1 1.000000e+01 train accuracy: 0.251490 val accuracy: 0.259000\n",
      "lr 1.000000e-07 rg_l2 1.000000e+01 rg_l1 2.500000e+02 train accuracy: 0.149265 val accuracy: 0.142000\n",
      "lr 1.000000e-07 rg_l2 1.000000e+01 rg_l1 5.000000e+02 train accuracy: 0.137000 val accuracy: 0.134000\n",
      "lr 1.000000e-07 rg_l2 2.500000e+04 rg_l1 0.000000e+00 train accuracy: 0.332735 val accuracy: 0.341000\n",
      "lr 1.000000e-07 rg_l2 2.500000e+04 rg_l1 1.000000e-01 train accuracy: 0.320959 val accuracy: 0.337000\n",
      "lr 1.000000e-07 rg_l2 2.500000e+04 rg_l1 1.000000e+01 train accuracy: 0.218306 val accuracy: 0.202000\n",
      "lr 1.000000e-07 rg_l2 2.500000e+04 rg_l1 2.500000e+02 train accuracy: 0.242490 val accuracy: 0.237000\n",
      "lr 1.000000e-07 rg_l2 2.500000e+04 rg_l1 5.000000e+02 train accuracy: 0.295571 val accuracy: 0.301000\n",
      "lr 1.000000e-07 rg_l2 5.000000e+04 rg_l1 0.000000e+00 train accuracy: 0.304041 val accuracy: 0.327000\n",
      "lr 1.000000e-07 rg_l2 5.000000e+04 rg_l1 1.000000e-01 train accuracy: 0.298857 val accuracy: 0.311000\n",
      "lr 1.000000e-07 rg_l2 5.000000e+04 rg_l1 1.000000e+01 train accuracy: 0.232735 val accuracy: 0.240000\n",
      "lr 1.000000e-07 rg_l2 5.000000e+04 rg_l1 2.500000e+02 train accuracy: 0.279490 val accuracy: 0.265000\n",
      "lr 1.000000e-07 rg_l2 5.000000e+04 rg_l1 5.000000e+02 train accuracy: 0.314020 val accuracy: 0.312000\n",
      "best validation accuracy achieved during cross-validation: 0.341000\n"
     ]
    }
   ],
   "source": [
    "# Use the validation set to tune hyperparameters (regularization strength and\n",
    "# learning rate). You should experiment with different ranges for the learning\n",
    "# rates and regularization strengths; if you are careful you should be able to\n",
    "# get a classification accuracy of over 0.35 on the validation set.\n",
    "from comp411.classifiers import Softmax\n",
    "results = {}\n",
    "best_val = -1\n",
    "best_softmax = None\n",
    "\n",
    "################################################################################\n",
    "# TODO:                                                                        #\n",
    "# Use the validation set to set the learning rate and regularization strength. #\n",
    "# This should be similar to the validation that you did for the SVM; save      #\n",
    "# the best trained softmax classifer in best_softmax.                          #\n",
    "################################################################################\n",
    "\n",
    "# Provided as a reference. You may or may not want to change these hyperparameters\n",
    "learning_rates = [1e-7]\n",
    "regularization_strengths_l2 = [0, 0.1, 10, 2.5e4, 5e4]\n",
    "regularization_strengths_l1 = [0, 0.1, 10, 2.5e2, 5e2]\n",
    "\n",
    "# *****START OF YOUR CODE (DO NOT DELETE/MODIFY THIS LINE)*****\n",
    "\n",
    "for lr in learning_rates:\n",
    "    for rg_l1 in regularization_strengths_l1:\n",
    "        for rg_l2 in regularization_strengths_l2:\n",
    "            model = Softmax()\n",
    "            loss_hist = model.train(X_train, y_train, learning_rate=lr, reg=rg_l2, reg_l1=rg_l1, num_iters=1500, verbose=True)\n",
    "\n",
    "            y_train_pred = model.predict(X_train)\n",
    "            train_accuracy = np.mean(y_train == y_train_pred)\n",
    "\n",
    "            y_val_pred = model.predict(X_val)\n",
    "            val_accuracy = np.mean(y_val == y_val_pred)\n",
    "            results[(lr, rg_l2, rg_l1)] = [train_accuracy, val_accuracy]\n",
    "            \n",
    "            if val_accuracy > best_val:\n",
    "                best_val = val_accuracy\n",
    "                best_softmax = model\n",
    "            \n",
    "\n",
    "# *****END OF YOUR CODE (DO NOT DELETE/MODIFY THIS LINE)*****\n",
    "    \n",
    "# Print out results.\n",
    "for lr, rg_l2, rg_l1 in sorted(results):\n",
    "    train_accuracy, val_accuracy = results[(lr, rg_l2,rg_l1)]\n",
    "    print('lr %e rg_l2 %e rg_l1 %e train accuracy: %f val accuracy: %f' % (\n",
    "                lr, rg_l2, rg_l1, train_accuracy, val_accuracy))\n",
    "    \n",
    "print('best validation accuracy achieved during cross-validation: %f' % best_val)"
   ]
  },
  {
   "cell_type": "code",
   "execution_count": 15,
   "metadata": {},
   "outputs": [
    {
     "name": "stdout",
     "output_type": "stream",
     "text": [
      "softmax on raw pixels final test set accuracy: 0.344000\n"
     ]
    }
   ],
   "source": [
    "# evaluate on test set\n",
    "# Evaluate the best softmax on test set\n",
    "y_test_pred = best_softmax.predict(X_test)\n",
    "test_accuracy = np.mean(y_test == y_test_pred)\n",
    "print('softmax on raw pixels final test set accuracy: %f' % (test_accuracy, ))"
   ]
  },
  {
   "cell_type": "markdown",
   "metadata": {
    "tags": [
     "pdf-inline"
    ]
   },
   "source": [
    "**Inline Question 2** - *True or False*\n",
    "\n",
    "Suppose the overall training loss is defined as the sum of the per-datapoint loss over all training examples. It is possible to add a new datapoint to a training set that would leave the SVM loss unchanged, but this is not the case with the Softmax classifier loss.\n",
    "\n",
    "$\\color{blue}{\\textit Your Answer:}$\n",
    "True.\n",
    "\n",
    "\n",
    "$\\color{blue}{\\textit Your Explanation:}$ SVM loss calculates loss for training samples that has higher error values than the margin. If a datapoint is well classified and difference between score of correct class and score of incorrect classes are larger than the margin, It will have zero loss. However, softmax gives loss value of zero when score of incorrect classes are -$\\inf$. Even though it is possible in theory, in practice, it is not very likely because of the float number representation.\n"
   ]
  },
  {
   "cell_type": "markdown",
   "metadata": {},
   "source": [
    "**Inline Question 3** \n",
    "\n",
    "Comment on the effects of unifying L1 and L2 losses while using Elastic Net Regularization Loss? Did L2 loss achieve better when used alone or not?\n",
    "\n",
    "$\\color{blue}{\\textit Your Comment:}$\n",
    "Best accurcy is achieved when we use both L1 and L2 regularization (Elastic Net Regularization). However, even though L1 regularization contributes possitively to training, L2 regularization achieves close results compared to Elastic Net Regularization.\n"
   ]
  },
  {
   "cell_type": "code",
   "execution_count": 16,
   "metadata": {},
   "outputs": [
    {
     "data": {
      "image/png": "[encoded data removed]",
      "text/plain": [
       "<Figure size 720x576 with 10 Axes>"
      ]
     },
     "metadata": {
      "needs_background": "light"
     },
     "output_type": "display_data"
    }
   ],
   "source": [
    "# Visualize the learned weights for each class\n",
    "w = best_softmax.W[:-1,:] # strip out the bias\n",
    "w = w.reshape(32, 32, 3, 10)\n",
    "\n",
    "w_min, w_max = np.min(w), np.max(w)\n",
    "\n",
    "classes = ['plane', 'car', 'bird', 'cat', 'deer', 'dog', 'frog', 'horse', 'ship', 'truck']\n",
    "for i in range(10):\n",
    "    plt.subplot(2, 5, i + 1)\n",
    "    \n",
    "    # Rescale the weights to be between 0 and 255\n",
    "    wimg = 255.0 * (w[:, :, :, i].squeeze() - w_min) / (w_max - w_min)\n",
    "    plt.imshow(wimg.astype('uint8'))\n",
    "    plt.axis('off')\n",
    "    plt.title(classes[i])"
   ]
  }
 ],
 "metadata": {
  "kernelspec": {
   "display_name": "Python 3.7.13 ('comp411')",
   "language": "python",
   "name": "python3"
  },
  "language_info": {
   "codemirror_mode": {
    "name": "ipython",
    "version": 3
   },
   "file_extension": ".py",
   "mimetype": "text/x-python",
   "name": "python",
   "nbconvert_exporter": "python",
   "pygments_lexer": "ipython3",
   "version": "3.7.13"
  },
  "vscode": {
   "interpreter": {
    "hash": "6ae14108caea0450af6c73d56c60d91d853d3b83f436d196b1c39ae4ce028190"
   }
  }
 },
 "nbformat": 4,
 "nbformat_minor": 4
}
